{
  "nbformat": 4,
  "nbformat_minor": 0,
  "metadata": {
    "colab": {
      "name": "Assignment day 2.ipynb",
      "provenance": [],
      "authorship_tag": "ABX9TyMSnHrFj0Bb39iKO0r02u/q",
      "include_colab_link": true
    },
    "kernelspec": {
      "name": "python3",
      "display_name": "Python 3"
    },
    "language_info": {
      "name": "python"
    }
  },
  "cells": [
    {
      "cell_type": "markdown",
      "metadata": {
        "id": "view-in-github",
        "colab_type": "text"
      },
      "source": [
        "<a href=\"https://colab.research.google.com/github/80anmol/80anmol/blob/main/Assignment_day_2.ipynb\" target=\"_parent\"><img src=\"https://colab.research.google.com/assets/colab-badge.svg\" alt=\"Open In Colab\"/></a>"
      ]
    },
    {
      "cell_type": "code",
      "metadata": {
        "colab": {
          "base_uri": "https://localhost:8080/"
        },
        "id": "qP1AOvI9iD7e",
        "outputId": "fe9f8c24-ad65-4d0f-9190-ab5039bce43a"
      },
      "source": [
        "list = [10,98,45,89,88,63,37,54,21,18,8]\n",
        "\n",
        "even_numbers = [num for num in list if num % 2 == 0]\n",
        "print(\"Even numbers in the list: \", even_numbers)"
      ],
      "execution_count": 10,
      "outputs": [
        {
          "output_type": "stream",
          "name": "stdout",
          "text": [
            "Even numbers in the list:  [10, 98, 88, 54, 18, 8]\n"
          ]
        }
      ]
    },
    {
      "cell_type": "code",
      "metadata": {
        "id": "Yr3OakPlkubS"
      },
      "source": [
        ""
      ],
      "execution_count": null,
      "outputs": []
    }
  ]
}